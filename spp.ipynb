{
 "cells": [
  {
   "cell_type": "markdown",
   "id": "7fb97814",
   "metadata": {},
   "source": [
    "# Install packages"
   ]
  },
  {
   "cell_type": "code",
   "execution_count": null,
   "id": "93b23fa1",
   "metadata": {},
   "outputs": [],
   "source": [
    "!conda install -y tensorflow scikit-learn pandas seaborn matplotlib"
   ]
  },
  {
   "cell_type": "code",
   "execution_count": 28,
   "id": "2944dd56",
   "metadata": {},
   "outputs": [
    {
     "name": "stdout",
     "output_type": "stream",
     "text": [
      "The tensorboard extension is already loaded. To reload it, use:\n",
      "  %reload_ext tensorboard\n"
     ]
    }
   ],
   "source": [
    "import pandas as pd\n",
    "import numpy as np\n",
    "import tensorflow as tf\n",
    "import seaborn as sns\n",
    "import matplotlib.pyplot as plt\n",
    "from sklearn.preprocessing import MinMaxScaler\n",
    "import datetime\n",
    "%load_ext tensorboard"
   ]
  },
  {
   "cell_type": "code",
   "execution_count": 29,
   "id": "4975c77b",
   "metadata": {},
   "outputs": [
    {
     "name": "stdout",
     "output_type": "stream",
     "text": [
      "Pandas version: 1.2.4\n",
      "Numpy version: 1.19.2\n",
      "Tensorflow version: 2.4.1\n",
      "Seaborn version: 0.11.1\n"
     ]
    }
   ],
   "source": [
    "print(\"Pandas version: {}\".format(pd.__version__))\n",
    "print(\"Numpy version: {}\".format(np.__version__))\n",
    "print(\"Tensorflow version: {}\".format(tf.__version__))\n",
    "print(\"Seaborn version: {}\".format(sns.__version__))"
   ]
  },
  {
   "cell_type": "code",
   "execution_count": 30,
   "id": "0feb8ba1",
   "metadata": {},
   "outputs": [
    {
     "name": "stdout",
     "output_type": "stream",
     "text": [
      "         Date      Open      High       Low     Close  Adj Close      Volume\n",
      "0  1996-01-01  5.550000  5.600000  5.533333  5.583333   3.633695    985500.0\n",
      "1  1996-01-02  5.466666  5.566666  5.288888  5.372222   3.496303   7470000.0\n",
      "2  1996-01-03  5.133333  5.254444  5.101111  5.200000   3.384218  15160500.0\n",
      "3  1996-01-04  5.200000  5.332222  5.144444  5.297777   3.447852  12397500.0\n",
      "4  1996-01-05  5.297777  5.277777  5.188888  5.202222   3.385664   5008500.0\n",
      "44541\n"
     ]
    }
   ],
   "source": [
    "data = pd.read_csv(\"data/ITC.NS.csv\")\n",
    "data.dropna(inplace=True)\n",
    "print(data.head())\n",
    "print(data.size)"
   ]
  },
  {
   "cell_type": "code",
   "execution_count": 31,
   "id": "65182c1b",
   "metadata": {},
   "outputs": [
    {
     "data": {
      "text/plain": [
       "<AxesSubplot:>"
      ]
     },
     "execution_count": 31,
     "metadata": {},
     "output_type": "execute_result"
    },
    {
     "data": {
      "image/png": "[encoded data removed]",
      "text/plain": [
       "<Figure size 864x432 with 1 Axes>"
      ]
     },
     "metadata": {
      "needs_background": "light"
     },
     "output_type": "display_data"
    }
   ],
   "source": [
    "# Check for null values\n",
    "plt.figure(figsize=(12,6))\n",
    "sns.heatmap(data.isnull(), yticklabels=False, cbar=False, cmap='viridis')"
   ]
  },
  {
   "cell_type": "code",
   "execution_count": 32,
   "id": "5bf90e61",
   "metadata": {},
   "outputs": [
    {
     "data": {
      "text/html": [
       "<div>\n",
       "<style scoped>\n",
       "    .dataframe tbody tr th:only-of-type {\n",
       "        vertical-align: middle;\n",
       "    }\n",
       "\n",
       "    .dataframe tbody tr th {\n",
       "        vertical-align: top;\n",
       "    }\n",
       "\n",
       "    .dataframe thead th {\n",
       "        text-align: right;\n",
       "    }\n",
       "</style>\n",
       "<table border=\"1\" class=\"dataframe\">\n",
       "  <thead>\n",
       "    <tr style=\"text-align: right;\">\n",
       "      <th></th>\n",
       "      <th>Date</th>\n",
       "      <th>Open</th>\n",
       "      <th>High</th>\n",
       "      <th>Low</th>\n",
       "      <th>Close</th>\n",
       "      <th>Adj Close</th>\n",
       "      <th>Volume</th>\n",
       "    </tr>\n",
       "  </thead>\n",
       "  <tbody>\n",
       "    <tr>\n",
       "      <th>0</th>\n",
       "      <td>1996-01-01</td>\n",
       "      <td>5.550000</td>\n",
       "      <td>5.600000</td>\n",
       "      <td>5.533333</td>\n",
       "      <td>5.583333</td>\n",
       "      <td>3.633695</td>\n",
       "      <td>985500.0</td>\n",
       "    </tr>\n",
       "    <tr>\n",
       "      <th>1</th>\n",
       "      <td>1996-01-02</td>\n",
       "      <td>5.466666</td>\n",
       "      <td>5.566666</td>\n",
       "      <td>5.288888</td>\n",
       "      <td>5.372222</td>\n",
       "      <td>3.496303</td>\n",
       "      <td>7470000.0</td>\n",
       "    </tr>\n",
       "    <tr>\n",
       "      <th>2</th>\n",
       "      <td>1996-01-03</td>\n",
       "      <td>5.133333</td>\n",
       "      <td>5.254444</td>\n",
       "      <td>5.101111</td>\n",
       "      <td>5.200000</td>\n",
       "      <td>3.384218</td>\n",
       "      <td>15160500.0</td>\n",
       "    </tr>\n",
       "    <tr>\n",
       "      <th>3</th>\n",
       "      <td>1996-01-04</td>\n",
       "      <td>5.200000</td>\n",
       "      <td>5.332222</td>\n",
       "      <td>5.144444</td>\n",
       "      <td>5.297777</td>\n",
       "      <td>3.447852</td>\n",
       "      <td>12397500.0</td>\n",
       "    </tr>\n",
       "    <tr>\n",
       "      <th>4</th>\n",
       "      <td>1996-01-05</td>\n",
       "      <td>5.297777</td>\n",
       "      <td>5.277777</td>\n",
       "      <td>5.188888</td>\n",
       "      <td>5.202222</td>\n",
       "      <td>3.385664</td>\n",
       "      <td>5008500.0</td>\n",
       "    </tr>\n",
       "  </tbody>\n",
       "</table>\n",
       "</div>"
      ],
      "text/plain": [
       "        Date      Open      High       Low     Close  Adj Close      Volume\n",
       "0 1996-01-01  5.550000  5.600000  5.533333  5.583333   3.633695    985500.0\n",
       "1 1996-01-02  5.466666  5.566666  5.288888  5.372222   3.496303   7470000.0\n",
       "2 1996-01-03  5.133333  5.254444  5.101111  5.200000   3.384218  15160500.0\n",
       "3 1996-01-04  5.200000  5.332222  5.144444  5.297777   3.447852  12397500.0\n",
       "4 1996-01-05  5.297777  5.277777  5.188888  5.202222   3.385664   5008500.0"
      ]
     },
     "execution_count": 32,
     "metadata": {},
     "output_type": "execute_result"
    }
   ],
   "source": [
    "# Convert Date to Date Time format\n",
    "data['Date'] = pd.to_datetime(data.Date)\n",
    "data.head()"
   ]
  },
  {
   "cell_type": "code",
   "execution_count": 33,
   "id": "e8c336dc",
   "metadata": {},
   "outputs": [],
   "source": [
    "# Format prices from String to Float\n",
    "data['Open'] = data['Open'].replace({'\\$':''}, regex=True).astype(float)\n",
    "data['High'] = data['High'].replace({'\\$': ''}, regex=True).astype(float)\n",
    "data['Close'] = data['Close'].replace({'\\$': ''}, regex=True).astype(float)\n",
    "data['Adj Close'] = data['Adj Close'].replace({'\\$': ''}, regex=True).astype(float)\n",
    "data['Low'] = data['Low'].replace({'\\$': ''}, regex=True).astype(float)\n",
    "\n",
    "# Remove Space from our columns\n",
    "# data.rename(columns={' Close/Last': 'Close/Last', ' Volume': 'Volume',\n",
    "#  ' Open': 'Open', ' High': 'High', ' Low': 'Low'},\n",
    "#  inplace=True)"
   ]
  },
  {
   "cell_type": "markdown",
   "id": "e7182757",
   "metadata": {},
   "source": [
    "# Split into train and test:"
   ]
  },
  {
   "cell_type": "code",
   "execution_count": 34,
   "id": "9fa09f05",
   "metadata": {},
   "outputs": [],
   "source": [
    "data_to_train = data[:3000]\n",
    "data_to_test = data[3000:]"
   ]
  },
  {
   "cell_type": "markdown",
   "id": "22b1e1f2",
   "metadata": {},
   "source": [
    "# Export train and test data to csv files"
   ]
  },
  {
   "cell_type": "code",
   "execution_count": 35,
   "id": "4854afdc",
   "metadata": {},
   "outputs": [],
   "source": [
    "data_to_train.to_csv('data/train_data.csv')\n",
    "data_to_test.to_csv('data/test_data.csv')"
   ]
  },
  {
   "cell_type": "markdown",
   "id": "f7a31cc5",
   "metadata": {},
   "source": [
    "# Model Creation"
   ]
  },
  {
   "cell_type": "code",
   "execution_count": 36,
   "id": "62f68fc6",
   "metadata": {},
   "outputs": [],
   "source": [
    "# Take values from Close column in our model.\n",
    "training_set = data_to_train.iloc[: , 4:5].values"
   ]
  },
  {
   "cell_type": "code",
   "execution_count": 37,
   "id": "9ae94832",
   "metadata": {},
   "outputs": [],
   "source": [
    "# Store real stock price to compare with our predictions later.\n",
    "real_stock_price = data_to_test.iloc[: , 4:5].values"
   ]
  },
  {
   "cell_type": "code",
   "execution_count": 49,
   "id": "dcdbb76b",
   "metadata": {},
   "outputs": [],
   "source": [
    "# Scale the training set to increase the performance of our model.\n",
    "# Scale between 0 and 1\n",
    "\n",
    "sc = MinMaxScaler(feature_range=(0,1))\n",
    "\n",
    "training_data_scaled = sc.fit_transform(training_set)"
   ]
  },
  {
   "cell_type": "code",
   "execution_count": 50,
   "id": "4f5d220e",
   "metadata": {},
   "outputs": [],
   "source": [
    "# Format the training data into 3D array to fit into our LSTM model. Create 60 timespams\n",
    "\n",
    "X_train = []\n",
    "y_train = []\n",
    "\n",
    "for i in range(120, 3000):\n",
    "    X_train.append(training_data_scaled[i-120:i,0])\n",
    "    y_train.append(training_data_scaled[i,0])\n",
    "\n",
    "X_train, y_train = np.array(X_train), np.array(y_train)"
   ]
  },
  {
   "cell_type": "markdown",
   "id": "40332321",
   "metadata": {},
   "source": [
    "# Reshaping"
   ]
  },
  {
   "cell_type": "code",
   "execution_count": 51,
   "id": "6edb8ddd",
   "metadata": {},
   "outputs": [],
   "source": [
    "X_train = np.reshape(X_train, (X_train.shape[0], X_train.shape[1], 1))"
   ]
  },
  {
   "cell_type": "markdown",
   "id": "8419d452",
   "metadata": {},
   "source": [
    "# Building LSTM Model"
   ]
  },
  {
   "cell_type": "code",
   "execution_count": 52,
   "id": "db507429",
   "metadata": {},
   "outputs": [
    {
     "name": "stdout",
     "output_type": "stream",
     "text": [
      "Model: \"sequential_3\"\n",
      "_________________________________________________________________\n",
      "Layer (type)                 Output Shape              Param #   \n",
      "=================================================================\n",
      "lstm_15 (LSTM)               (None, 120, 50)           10400     \n",
      "_________________________________________________________________\n",
      "dropout_15 (Dropout)         (None, 120, 50)           0         \n",
      "_________________________________________________________________\n",
      "lstm_16 (LSTM)               (None, 120, 50)           20200     \n",
      "_________________________________________________________________\n",
      "dropout_16 (Dropout)         (None, 120, 50)           0         \n",
      "_________________________________________________________________\n",
      "lstm_17 (LSTM)               (None, 120, 50)           20200     \n",
      "_________________________________________________________________\n",
      "dropout_17 (Dropout)         (None, 120, 50)           0         \n",
      "_________________________________________________________________\n",
      "lstm_18 (LSTM)               (None, 120, 50)           20200     \n",
      "_________________________________________________________________\n",
      "dropout_18 (Dropout)         (None, 120, 50)           0         \n",
      "_________________________________________________________________\n",
      "lstm_19 (LSTM)               (None, 120, 50)           20200     \n",
      "_________________________________________________________________\n",
      "dropout_19 (Dropout)         (None, 120, 50)           0         \n",
      "_________________________________________________________________\n",
      "lstm_20 (LSTM)               (None, 50)                20200     \n",
      "_________________________________________________________________\n",
      "dropout_20 (Dropout)         (None, 50)                0         \n",
      "_________________________________________________________________\n",
      "dense_3 (Dense)              (None, 1)                 51        \n",
      "_________________________________________________________________\n",
      "dropout_21 (Dropout)         (None, 1)                 0         \n",
      "_________________________________________________________________\n",
      "dense_4 (Dense)              (None, 1)                 2         \n",
      "=================================================================\n",
      "Total params: 111,453\n",
      "Trainable params: 111,453\n",
      "Non-trainable params: 0\n",
      "_________________________________________________________________\n"
     ]
    }
   ],
   "source": [
    "model = tf.keras.models.Sequential()\n",
    "\n",
    "model.add(tf.keras.layers.LSTM(units=50, return_sequences=True, input_shape=(X_train.shape[1],1)))\n",
    "\n",
    "model.add(tf.keras.layers.Dropout(0.2))\n",
    "\n",
    "model.add(tf.keras.layers.LSTM(units=50, return_sequences=True))\n",
    "\n",
    "model.add(tf.keras.layers.Dropout(0.2))\n",
    "\n",
    "model.add(tf.keras.layers.LSTM(units=50, return_sequences=True))\n",
    "\n",
    "model.add(tf.keras.layers.Dropout(0.2))\n",
    "\n",
    "model.add(tf.keras.layers.LSTM(units=50, return_sequences=True))\n",
    "\n",
    "model.add(tf.keras.layers.Dropout(0.2))\n",
    "\n",
    "model.add(tf.keras.layers.LSTM(units=50, return_sequences=True))\n",
    "\n",
    "model.add(tf.keras.layers.Dropout(0.2))\n",
    "\n",
    "model.add(tf.keras.layers.LSTM(units=50))\n",
    "\n",
    "model.add(tf.keras.layers.Dropout(0.2))\n",
    "\n",
    "model.add(tf.keras.layers.Dense(units=1))\n",
    "\n",
    "model.add(tf.keras.layers.Dropout(0.2))\n",
    "\n",
    "model.add(tf.keras.layers.Dense(units=1))\n",
    "\n",
    "model.summary()\n"
   ]
  },
  {
   "cell_type": "code",
   "execution_count": 53,
   "id": "416b9a6c",
   "metadata": {},
   "outputs": [
    {
     "data": {
      "text/plain": [
       "Reusing TensorBoard on port 6006 (pid 952), started 23:15:14 ago. (Use '!kill 952' to kill it.)"
      ]
     },
     "metadata": {},
     "output_type": "display_data"
    },
    {
     "data": {
      "text/html": [
       "\n",
       "      <iframe id=\"tensorboard-frame-6c520e2941c602ab\" width=\"100%\" height=\"800\" frameborder=\"0\">\n",
       "      </iframe>\n",
       "      <script>\n",
       "        (function() {\n",
       "          const frame = document.getElementById(\"tensorboard-frame-6c520e2941c602ab\");\n",
       "          const url = new URL(\"/\", window.location);\n",
       "          const port = 6006;\n",
       "          if (port) {\n",
       "            url.port = port;\n",
       "          }\n",
       "          frame.src = url;\n",
       "        })();\n",
       "      </script>\n",
       "    "
      ],
      "text/plain": [
       "<IPython.core.display.HTML object>"
      ]
     },
     "metadata": {},
     "output_type": "display_data"
    }
   ],
   "source": [
    "!rm -rf logs\n",
    "log_dir = \"logs/fit/\" + datetime.datetime.now().strftime(\"%Y%m%d-%H%M%S\")\n",
    "tensorboard_callback = tf.keras.callbacks.TensorBoard(log_dir=log_dir, histogram_freq=1)\n",
    "%tensorboard --logdir logs/fit"
   ]
  },
  {
   "cell_type": "markdown",
   "id": "a43ecf4d",
   "metadata": {},
   "source": [
    "# Fitting"
   ]
  },
  {
   "cell_type": "code",
   "execution_count": null,
   "id": "e9216d36",
   "metadata": {
    "scrolled": true
   },
   "outputs": [
    {
     "name": "stdout",
     "output_type": "stream",
     "text": [
      "Epoch 1/200\n",
      "90/90 [==============================] - 333s 3s/step - loss: 0.0578\n",
      "Epoch 2/200\n",
      "90/90 [==============================] - 93s 1s/step - loss: 0.0229\n",
      "Epoch 3/200\n",
      "90/90 [==============================] - 76s 841ms/step - loss: 0.0175\n",
      "Epoch 4/200\n",
      "59/90 [==================>...........] - ETA: 1:46 - loss: 0.0190"
     ]
    }
   ],
   "source": [
    "model.compile(optimizer='adam', loss='mean_squared_error')\n",
    "\n",
    "modelo = model.fit(X_train, y_train, epochs=200, batch_size=32, callbacks=[tensorboard_callback])"
   ]
  },
  {
   "cell_type": "code",
   "execution_count": 44,
   "id": "4fa6a2b2",
   "metadata": {},
   "outputs": [
    {
     "data": {
      "image/png": "[encoded data removed]",
      "text/plain": [
       "<Figure size 432x288 with 1 Axes>"
      ]
     },
     "metadata": {
      "needs_background": "light"
     },
     "output_type": "display_data"
    }
   ],
   "source": [
    "plt.plot(modelo.history['loss'])\n",
    "plt.xlabel('Epochs')\n",
    "plt.ylabel('loss')\n",
    "plt.show()"
   ]
  },
  {
   "cell_type": "markdown",
   "id": "eb3b09c4",
   "metadata": {},
   "source": [
    "# Making Predictions"
   ]
  },
  {
   "cell_type": "code",
   "execution_count": 45,
   "id": "8b13895f",
   "metadata": {},
   "outputs": [],
   "source": [
    "dataset_total = pd.concat([data_to_train['Close'], data_to_test['Close']], axis=0)\n",
    "inputs = dataset_total[len(dataset_total) - len(data_to_test) - 60:].values\n",
    "inputs = inputs.reshape(-1,1)\n",
    "inputs = sc.transform(inputs)\n",
    "X_test = []\n",
    "for i in range(60, 259):\n",
    "   X_test.append(inputs[i-60:i, 0])\n",
    "X_test = np.array(X_test)\n",
    "X_test = np.reshape(X_test, (X_test.shape[0], X_test.shape[1], 1))"
   ]
  },
  {
   "cell_type": "markdown",
   "id": "47f0d832",
   "metadata": {},
   "source": [
    "# Predict"
   ]
  },
  {
   "cell_type": "code",
   "execution_count": 46,
   "id": "69b66bbf",
   "metadata": {},
   "outputs": [],
   "source": [
    "predicted_stock_price = model.predict(X_test)"
   ]
  },
  {
   "cell_type": "code",
   "execution_count": 47,
   "id": "fa3bb15c",
   "metadata": {},
   "outputs": [],
   "source": [
    "predicted_stock_price = sc.inverse_transform(predicted_stock_price)"
   ]
  },
  {
   "cell_type": "code",
   "execution_count": 48,
   "id": "7dcf147f",
   "metadata": {},
   "outputs": [
    {
     "data": {
      "image/png": "[encoded data removed]",
      "text/plain": [
       "<Figure size 864x432 with 1 Axes>"
      ]
     },
     "metadata": {
      "needs_background": "light"
     },
     "output_type": "display_data"
    }
   ],
   "source": [
    "plt.figure(figsize=(12, 6))\n",
    "\n",
    "plt.plot(real_stock_price, color='black', label='ITC Stock Price')\n",
    "plt.plot(predicted_stock_price, color='red', label='Predicted ITC Stock Price')\n",
    "\n",
    "plt.title('ITC Stock Price Prediction')\n",
    "plt.xlabel('Time')\n",
    "plt.xlabel('ITC Stock Price')\n",
    "plt.legend()\n",
    "plt.show()"
   ]
  },
  {
   "cell_type": "code",
   "execution_count": null,
   "id": "aba128c3",
   "metadata": {},
   "outputs": [],
   "source": []
  }
 ],
 "metadata": {
  "kernelspec": {
   "display_name": "Python 3",
   "language": "python",
   "name": "python3"
  },
  "language_info": {
   "codemirror_mode": {
    "name": "ipython",
    "version": 3
   },
   "file_extension": ".py",
   "mimetype": "text/x-python",
   "name": "python",
   "nbconvert_exporter": "python",
   "pygments_lexer": "ipython3",
   "version": "3.8.8"
  }
 },
 "nbformat": 4,
 "nbformat_minor": 5
}
